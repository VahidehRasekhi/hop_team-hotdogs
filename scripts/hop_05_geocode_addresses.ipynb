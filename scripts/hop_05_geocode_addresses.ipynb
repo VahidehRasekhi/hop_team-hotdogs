{
 "cells": [
  {
   "cell_type": "markdown",
   "id": "f761c3d8",
   "metadata": {},
   "source": [
    "# Import"
   ]
  },
  {
   "cell_type": "code",
   "execution_count": 79,
   "id": "db258d7f",
   "metadata": {},
   "outputs": [],
   "source": [
    "import pandas as pd\n",
    "import numpy as np\n",
    "import sqlite3\n",
    "import requests\n",
    "import json\n",
    "from tqdm.notebook import tqdm"
   ]
  },
  {
   "cell_type": "markdown",
   "id": "3aa06722",
   "metadata": {},
   "source": [
    "# Read in data and API key"
   ]
  },
  {
   "cell_type": "code",
   "execution_count": 37,
   "id": "e0f58fbf",
   "metadata": {},
   "outputs": [],
   "source": [
    "k = open('../data/api_keys.json')\n",
    "keys = json.load(k)\n",
    "api_key = keys['google_maps']"
   ]
  },
  {
   "cell_type": "code",
   "execution_count": 87,
   "id": "6a386b97",
   "metadata": {},
   "outputs": [],
   "source": [
    "hosp = pd.read_csv('../data/neo4j/full_refs_hosp.csv')"
   ]
  },
  {
   "cell_type": "code",
   "execution_count": 35,
   "id": "3fad57e7",
   "metadata": {},
   "outputs": [
    {
     "data": {
      "text/plain": [
       "2725"
      ]
     },
     "execution_count": 35,
     "metadata": {},
     "output_type": "execute_result"
    }
   ],
   "source": [
    "hosp['address_provider'].nunique()"
   ]
  },
  {
   "cell_type": "code",
   "execution_count": 36,
   "id": "13ee2eb5",
   "metadata": {},
   "outputs": [
    {
     "data": {
      "text/plain": [
       "39"
      ]
     },
     "execution_count": 36,
     "metadata": {},
     "output_type": "execute_result"
    }
   ],
   "source": [
    "hosp['address_hospital'].nunique()"
   ]
  },
  {
   "cell_type": "markdown",
   "id": "aec64f0d",
   "metadata": {},
   "source": [
    "# Geocode using Google Geocode API"
   ]
  },
  {
   "cell_type": "markdown",
   "id": "8934f756",
   "metadata": {},
   "source": [
    "## Geocode provider addresses"
   ]
  },
  {
   "cell_type": "code",
   "execution_count": 67,
   "id": "1bd912be",
   "metadata": {},
   "outputs": [],
   "source": [
    "prov_addresses = hosp['address_provider'].unique()"
   ]
  },
  {
   "cell_type": "code",
   "execution_count": 68,
   "id": "fdd0d918",
   "metadata": {},
   "outputs": [],
   "source": [
    "geocode_dict = {}\n",
    "\n",
    "for address in prov_addresses:\n",
    "    endpoint = 'https://maps.googleapis.com/maps/api/geocode/json'\n",
    "    params = {'address': address,\n",
    "             'key': api_key}\n",
    "\n",
    "    response = requests.get(endpoint, params)\n",
    "    geocode_dict[address] = response.json()['results'][0]['geometry']['location']"
   ]
  },
  {
   "cell_type": "code",
   "execution_count": 75,
   "id": "cb62f3f2",
   "metadata": {},
   "outputs": [],
   "source": [
    "provider_address_geocodes = pd.DataFrame(geocode_dict).transpose().reset_index().rename(columns = {'index':'address_provider'})"
   ]
  },
  {
   "cell_type": "markdown",
   "id": "3d8f0e14",
   "metadata": {},
   "source": [
    "## Geocode hospital addresses"
   ]
  },
  {
   "cell_type": "code",
   "execution_count": 78,
   "id": "4c2d96aa",
   "metadata": {},
   "outputs": [],
   "source": [
    "hosp_addresses = hosp['address_hospital'].unique()"
   ]
  },
  {
   "cell_type": "code",
   "execution_count": 80,
   "id": "26b79f65",
   "metadata": {},
   "outputs": [
    {
     "data": {
      "application/vnd.jupyter.widget-view+json": {
       "model_id": "1c76f09679ea4829b13b4beac47f9051",
       "version_major": 2,
       "version_minor": 0
      },
      "text/plain": [
       "  0%|          | 0/39 [00:00<?, ?it/s]"
      ]
     },
     "metadata": {},
     "output_type": "display_data"
    }
   ],
   "source": [
    "geocode_dict_hosp = {}\n",
    "\n",
    "for address in tqdm(hosp_addresses):\n",
    "    endpoint = 'https://maps.googleapis.com/maps/api/geocode/json'\n",
    "    params = {'address': address,\n",
    "             'key': api_key}\n",
    "\n",
    "    response = requests.get(endpoint, params)\n",
    "    geocode_dict_hosp[address] = response.json()['results'][0]['geometry']['location']"
   ]
  },
  {
   "cell_type": "code",
   "execution_count": 83,
   "id": "dee0d905",
   "metadata": {},
   "outputs": [
    {
     "data": {
      "text/html": [
       "<div>\n",
       "<style scoped>\n",
       "    .dataframe tbody tr th:only-of-type {\n",
       "        vertical-align: middle;\n",
       "    }\n",
       "\n",
       "    .dataframe tbody tr th {\n",
       "        vertical-align: top;\n",
       "    }\n",
       "\n",
       "    .dataframe thead th {\n",
       "        text-align: right;\n",
       "    }\n",
       "</style>\n",
       "<table border=\"1\" class=\"dataframe\">\n",
       "  <thead>\n",
       "    <tr style=\"text-align: right;\">\n",
       "      <th></th>\n",
       "      <th>address_hospital</th>\n",
       "      <th>lat</th>\n",
       "      <th>lng</th>\n",
       "    </tr>\n",
       "  </thead>\n",
       "  <tbody>\n",
       "    <tr>\n",
       "      <th>0</th>\n",
       "      <td>313 N MAIN ST, ASHLAND CITY, TN 37015</td>\n",
       "      <td>36.277115</td>\n",
       "      <td>-87.065626</td>\n",
       "    </tr>\n",
       "    <tr>\n",
       "      <th>1</th>\n",
       "      <td>158 HOSPITAL DR, CARTHAGE, TN 37030</td>\n",
       "      <td>36.263555</td>\n",
       "      <td>-85.949974</td>\n",
       "    </tr>\n",
       "    <tr>\n",
       "      <th>2</th>\n",
       "      <td>111 HIGHWAY 70 E, DICKSON, TN 37055</td>\n",
       "      <td>36.082873</td>\n",
       "      <td>-87.337358</td>\n",
       "    </tr>\n",
       "    <tr>\n",
       "      <th>3</th>\n",
       "      <td>555 HARTSVILLE PIKE, GALLATIN, TN 37066</td>\n",
       "      <td>36.390778</td>\n",
       "      <td>-86.432507</td>\n",
       "    </tr>\n",
       "    <tr>\n",
       "      <th>4</th>\n",
       "      <td>4321 CAROTHERS PARKWAY, FRANKLIN, TN 37067</td>\n",
       "      <td>35.916450</td>\n",
       "      <td>-86.820426</td>\n",
       "    </tr>\n",
       "    <tr>\n",
       "      <th>5</th>\n",
       "      <td>2014 QUAIL HOLLOW CIR, FRANKLIN, TN 37067</td>\n",
       "      <td>35.914241</td>\n",
       "      <td>-86.815679</td>\n",
       "    </tr>\n",
       "    <tr>\n",
       "      <th>6</th>\n",
       "      <td>1000 PHYSICIANS WAY, FRANKLIN, TN 37067</td>\n",
       "      <td>35.919140</td>\n",
       "      <td>-86.819249</td>\n",
       "    </tr>\n",
       "    <tr>\n",
       "      <th>7</th>\n",
       "      <td>500 CHURCH ST, HARTSVILLE, TN 37074</td>\n",
       "      <td>36.387772</td>\n",
       "      <td>-86.168102</td>\n",
       "    </tr>\n",
       "    <tr>\n",
       "      <th>8</th>\n",
       "      <td>355 NEW SHACKLE ISLAND RD, HENDERSONVILLE, TN ...</td>\n",
       "      <td>36.325391</td>\n",
       "      <td>-86.622419</td>\n",
       "    </tr>\n",
       "    <tr>\n",
       "      <th>9</th>\n",
       "      <td>5655 FRIST BLVD, HERMITAGE, TN 37076</td>\n",
       "      <td>36.176152</td>\n",
       "      <td>-86.608062</td>\n",
       "    </tr>\n",
       "    <tr>\n",
       "      <th>10</th>\n",
       "      <td>204 MEDICAL DRIVE, LAFAYETTE, TN 37083</td>\n",
       "      <td>36.519583</td>\n",
       "      <td>-86.026427</td>\n",
       "    </tr>\n",
       "    <tr>\n",
       "      <th>11</th>\n",
       "      <td>1411 W. BADDOUR PARKWAY, LEBANON, TN 37087</td>\n",
       "      <td>36.221530</td>\n",
       "      <td>-86.327880</td>\n",
       "    </tr>\n",
       "    <tr>\n",
       "      <th>12</th>\n",
       "      <td>1080 N ELLINGTON PKWY, LEWISBURG, TN 37091</td>\n",
       "      <td>35.465066</td>\n",
       "      <td>-86.785385</td>\n",
       "    </tr>\n",
       "    <tr>\n",
       "      <th>13</th>\n",
       "      <td>1559 SPARTA ST, MC MINNVILLE, TN 37110</td>\n",
       "      <td>35.700143</td>\n",
       "      <td>-85.742779</td>\n",
       "    </tr>\n",
       "    <tr>\n",
       "      <th>14</th>\n",
       "      <td>1559 SPARTA ST, MCMINNVILLE, TN 37110</td>\n",
       "      <td>35.700143</td>\n",
       "      <td>-85.742779</td>\n",
       "    </tr>\n",
       "    <tr>\n",
       "      <th>15</th>\n",
       "      <td>1009 N. THOMPSON LN, MURFREESBORO, TN 37128</td>\n",
       "      <td>35.863804</td>\n",
       "      <td>-86.430198</td>\n",
       "    </tr>\n",
       "    <tr>\n",
       "      <th>16</th>\n",
       "      <td>1700 MEDICAL CENTER PKWY, MURFREESBORO, TN 37129</td>\n",
       "      <td>35.861019</td>\n",
       "      <td>-86.425216</td>\n",
       "    </tr>\n",
       "    <tr>\n",
       "      <th>17</th>\n",
       "      <td>2835 HWY 231 N, SHELBYVILLE, TN 37160</td>\n",
       "      <td>35.382661</td>\n",
       "      <td>-86.459209</td>\n",
       "    </tr>\n",
       "    <tr>\n",
       "      <th>18</th>\n",
       "      <td>2835 HIGHWAY 231 N, SHELBYVILLE, TN 37160</td>\n",
       "      <td>35.563923</td>\n",
       "      <td>-86.448776</td>\n",
       "    </tr>\n",
       "    <tr>\n",
       "      <th>19</th>\n",
       "      <td>520 W MAIN ST, SMITHVILLE, TN 37166</td>\n",
       "      <td>35.961452</td>\n",
       "      <td>-85.829506</td>\n",
       "    </tr>\n",
       "    <tr>\n",
       "      <th>20</th>\n",
       "      <td>200 STONECREST BLVD, SMYRNA, TN 37167</td>\n",
       "      <td>35.975763</td>\n",
       "      <td>-86.564678</td>\n",
       "    </tr>\n",
       "    <tr>\n",
       "      <th>21</th>\n",
       "      <td>100 NORTHCREST DR, SPRINGFIELD, TN 37172</td>\n",
       "      <td>36.478214</td>\n",
       "      <td>-86.887084</td>\n",
       "    </tr>\n",
       "    <tr>\n",
       "      <th>22</th>\n",
       "      <td>324 DOOLITTLE RD, WOODBURY, TN 37190</td>\n",
       "      <td>35.832750</td>\n",
       "      <td>-86.071837</td>\n",
       "    </tr>\n",
       "    <tr>\n",
       "      <th>23</th>\n",
       "      <td>2011 MURPHY AVE STE 400, NASHVILLE, TN 37203</td>\n",
       "      <td>36.155170</td>\n",
       "      <td>-86.803399</td>\n",
       "    </tr>\n",
       "    <tr>\n",
       "      <th>24</th>\n",
       "      <td>2300 PATTERSON ST, NASHVILLE, TN 37203</td>\n",
       "      <td>36.153671</td>\n",
       "      <td>-86.810282</td>\n",
       "    </tr>\n",
       "    <tr>\n",
       "      <th>25</th>\n",
       "      <td>4220 HARDING RD, NASHVILLE, TN 37205</td>\n",
       "      <td>36.129253</td>\n",
       "      <td>-86.844464</td>\n",
       "    </tr>\n",
       "    <tr>\n",
       "      <th>26</th>\n",
       "      <td>3441 DICKERSON PIKE, NASHVILLE, TN 37207</td>\n",
       "      <td>36.245198</td>\n",
       "      <td>-86.750076</td>\n",
       "    </tr>\n",
       "    <tr>\n",
       "      <th>27</th>\n",
       "      <td>3443 DICKERSON PK, SUITE 680, NASHVILLE, TN 37207</td>\n",
       "      <td>36.245245</td>\n",
       "      <td>-86.750047</td>\n",
       "    </tr>\n",
       "    <tr>\n",
       "      <th>28</th>\n",
       "      <td>1818 ALBION ST, ATTN: MARTHA LAMPLEY, NASHVILL...</td>\n",
       "      <td>36.166372</td>\n",
       "      <td>-86.806717</td>\n",
       "    </tr>\n",
       "    <tr>\n",
       "      <th>29</th>\n",
       "      <td>391 WALLACE RD, NASHVILLE, TN 37211</td>\n",
       "      <td>36.076470</td>\n",
       "      <td>-86.721519</td>\n",
       "    </tr>\n",
       "    <tr>\n",
       "      <th>30</th>\n",
       "      <td>2201 CHILDRENS WAY, NASHVILLE, TN 37212</td>\n",
       "      <td>36.138306</td>\n",
       "      <td>-86.802498</td>\n",
       "    </tr>\n",
       "    <tr>\n",
       "      <th>31</th>\n",
       "      <td>1601 23RD AVE S, NASHVILLE, TN 37212</td>\n",
       "      <td>36.138489</td>\n",
       "      <td>-86.804185</td>\n",
       "    </tr>\n",
       "    <tr>\n",
       "      <th>32</th>\n",
       "      <td>221 STEWARTS FERRY PIKE, NASHVILLE, TN 37214</td>\n",
       "      <td>36.165103</td>\n",
       "      <td>-86.646939</td>\n",
       "    </tr>\n",
       "    <tr>\n",
       "      <th>33</th>\n",
       "      <td>1412 COUNTY HOSPITAL RD, NASHVILLE, TN 37218</td>\n",
       "      <td>36.182484</td>\n",
       "      <td>-86.847930</td>\n",
       "    </tr>\n",
       "    <tr>\n",
       "      <th>34</th>\n",
       "      <td>1211 MEDICAL CENTER DRIVE, NASHVILLE, TN 37232</td>\n",
       "      <td>36.142499</td>\n",
       "      <td>-86.801524</td>\n",
       "    </tr>\n",
       "    <tr>\n",
       "      <th>35</th>\n",
       "      <td>2000 HAYES STREET, SUITE 500, NASHVILLE, TN 37236</td>\n",
       "      <td>36.152514</td>\n",
       "      <td>-86.800777</td>\n",
       "    </tr>\n",
       "    <tr>\n",
       "      <th>36</th>\n",
       "      <td>2000 CHURCH ST, NASHVILLE, TN 37236</td>\n",
       "      <td>36.154164</td>\n",
       "      <td>-86.801763</td>\n",
       "    </tr>\n",
       "    <tr>\n",
       "      <th>37</th>\n",
       "      <td>1224 TROTWOOD AVE, COLUMBIA, TN 38401</td>\n",
       "      <td>35.606755</td>\n",
       "      <td>-87.067148</td>\n",
       "    </tr>\n",
       "    <tr>\n",
       "      <th>38</th>\n",
       "      <td>1400 ROSEWOOD DR, COLUMBIA, TN 38401</td>\n",
       "      <td>35.606000</td>\n",
       "      <td>-87.058913</td>\n",
       "    </tr>\n",
       "  </tbody>\n",
       "</table>\n",
       "</div>"
      ],
      "text/plain": [
       "                                     address_hospital        lat        lng\n",
       "0               313 N MAIN ST, ASHLAND CITY, TN 37015  36.277115 -87.065626\n",
       "1                 158 HOSPITAL DR, CARTHAGE, TN 37030  36.263555 -85.949974\n",
       "2                 111 HIGHWAY 70 E, DICKSON, TN 37055  36.082873 -87.337358\n",
       "3             555 HARTSVILLE PIKE, GALLATIN, TN 37066  36.390778 -86.432507\n",
       "4          4321 CAROTHERS PARKWAY, FRANKLIN, TN 37067  35.916450 -86.820426\n",
       "5           2014 QUAIL HOLLOW CIR, FRANKLIN, TN 37067  35.914241 -86.815679\n",
       "6             1000 PHYSICIANS WAY, FRANKLIN, TN 37067  35.919140 -86.819249\n",
       "7                 500 CHURCH ST, HARTSVILLE, TN 37074  36.387772 -86.168102\n",
       "8   355 NEW SHACKLE ISLAND RD, HENDERSONVILLE, TN ...  36.325391 -86.622419\n",
       "9                5655 FRIST BLVD, HERMITAGE, TN 37076  36.176152 -86.608062\n",
       "10             204 MEDICAL DRIVE, LAFAYETTE, TN 37083  36.519583 -86.026427\n",
       "11         1411 W. BADDOUR PARKWAY, LEBANON, TN 37087  36.221530 -86.327880\n",
       "12         1080 N ELLINGTON PKWY, LEWISBURG, TN 37091  35.465066 -86.785385\n",
       "13             1559 SPARTA ST, MC MINNVILLE, TN 37110  35.700143 -85.742779\n",
       "14              1559 SPARTA ST, MCMINNVILLE, TN 37110  35.700143 -85.742779\n",
       "15        1009 N. THOMPSON LN, MURFREESBORO, TN 37128  35.863804 -86.430198\n",
       "16   1700 MEDICAL CENTER PKWY, MURFREESBORO, TN 37129  35.861019 -86.425216\n",
       "17              2835 HWY 231 N, SHELBYVILLE, TN 37160  35.382661 -86.459209\n",
       "18          2835 HIGHWAY 231 N, SHELBYVILLE, TN 37160  35.563923 -86.448776\n",
       "19                520 W MAIN ST, SMITHVILLE, TN 37166  35.961452 -85.829506\n",
       "20              200 STONECREST BLVD, SMYRNA, TN 37167  35.975763 -86.564678\n",
       "21           100 NORTHCREST DR, SPRINGFIELD, TN 37172  36.478214 -86.887084\n",
       "22               324 DOOLITTLE RD, WOODBURY, TN 37190  35.832750 -86.071837\n",
       "23       2011 MURPHY AVE STE 400, NASHVILLE, TN 37203  36.155170 -86.803399\n",
       "24             2300 PATTERSON ST, NASHVILLE, TN 37203  36.153671 -86.810282\n",
       "25               4220 HARDING RD, NASHVILLE, TN 37205  36.129253 -86.844464\n",
       "26           3441 DICKERSON PIKE, NASHVILLE, TN 37207  36.245198 -86.750076\n",
       "27  3443 DICKERSON PK, SUITE 680, NASHVILLE, TN 37207  36.245245 -86.750047\n",
       "28  1818 ALBION ST, ATTN: MARTHA LAMPLEY, NASHVILL...  36.166372 -86.806717\n",
       "29                391 WALLACE RD, NASHVILLE, TN 37211  36.076470 -86.721519\n",
       "30            2201 CHILDRENS WAY, NASHVILLE, TN 37212  36.138306 -86.802498\n",
       "31               1601 23RD AVE S, NASHVILLE, TN 37212  36.138489 -86.804185\n",
       "32       221 STEWARTS FERRY PIKE, NASHVILLE, TN 37214  36.165103 -86.646939\n",
       "33       1412 COUNTY HOSPITAL RD, NASHVILLE, TN 37218  36.182484 -86.847930\n",
       "34     1211 MEDICAL CENTER DRIVE, NASHVILLE, TN 37232  36.142499 -86.801524\n",
       "35  2000 HAYES STREET, SUITE 500, NASHVILLE, TN 37236  36.152514 -86.800777\n",
       "36                2000 CHURCH ST, NASHVILLE, TN 37236  36.154164 -86.801763\n",
       "37              1224 TROTWOOD AVE, COLUMBIA, TN 38401  35.606755 -87.067148\n",
       "38               1400 ROSEWOOD DR, COLUMBIA, TN 38401  35.606000 -87.058913"
      ]
     },
     "execution_count": 83,
     "metadata": {},
     "output_type": "execute_result"
    }
   ],
   "source": [
    "hospital_address_geocodes = pd.DataFrame(geocode_dict_hosp).transpose().reset_index().rename(columns = {'index':'address_hospital'})\n",
    "hospital_address_geocodes"
   ]
  },
  {
   "cell_type": "markdown",
   "id": "bbfdf890",
   "metadata": {},
   "source": [
    "# Write to CSV\n",
    "So we don't accidentally use up this Google API credit"
   ]
  },
  {
   "cell_type": "code",
   "execution_count": 86,
   "id": "af21c8e3",
   "metadata": {},
   "outputs": [],
   "source": [
    "hospital_address_geocodes.to_csv('../data/hospital_address_geocodes.csv', index = False)\n",
    "provider_address_geocodes.to_csv('../data/provider_address_geocodes.csv', index = False)"
   ]
  }
 ],
 "metadata": {
  "kernelspec": {
   "display_name": "Python 3",
   "language": "python",
   "name": "python3"
  },
  "language_info": {
   "codemirror_mode": {
    "name": "ipython",
    "version": 3
   },
   "file_extension": ".py",
   "mimetype": "text/x-python",
   "name": "python",
   "nbconvert_exporter": "python",
   "pygments_lexer": "ipython3",
   "version": "3.8.8"
  }
 },
 "nbformat": 4,
 "nbformat_minor": 5
}
