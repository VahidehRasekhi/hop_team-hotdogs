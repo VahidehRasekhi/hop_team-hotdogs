{
 "cells": [
  {
   "cell_type": "markdown",
   "id": "60f99652",
   "metadata": {},
   "source": [
    "# Import"
   ]
  },
  {
   "cell_type": "code",
   "execution_count": 1,
   "id": "77f9bbb5",
   "metadata": {},
   "outputs": [],
   "source": [
    "import pandas as pd\n",
    "import numpy as np\n",
    "import sqlite3"
   ]
  },
  {
   "cell_type": "markdown",
   "id": "79ff0f46",
   "metadata": {},
   "source": [
    "# Query for broad communities\n",
    "Write similar query to those in hop_03, but do not restrict entity types on from_npi nor to_npi."
   ]
  },
  {
   "cell_type": "code",
   "execution_count": 5,
   "id": "24538888",
   "metadata": {},
   "outputs": [
    {
     "name": "stdout",
     "output_type": "stream",
     "text": [
      "Wall time: 37.3 s\n"
     ]
    }
   ],
   "source": [
    "%%time\n",
    "# referrals from providers (entity 1) to metro nashville groups (entity 2) \n",
    "# having over 50 transactions and under 50 average wait time\n",
    "query = \"\"\"\n",
    "        \n",
    "        WITH metro_entity AS (\n",
    "            SELECT *\n",
    "            FROM profile\n",
    "            INNER JOIN taxonomy\n",
    "            ON profile.taxonomy_code = taxonomy.code\n",
    "            WHERE provider_business_practice_location_address_postal_code IN (\n",
    "                SELECT zip\n",
    "                FROM zip_cbsa\n",
    "                WHERE cbsa = '34980'\n",
    "                )\n",
    "            ),\n",
    "        referrals50 AS (\n",
    "            SELECT *\n",
    "            FROM referrals\n",
    "            WHERE average_day_wait < 50\n",
    "            AND transaction_count >= 50\n",
    "        ),\n",
    "        qualifying_refs AS (\n",
    "            SELECT *\n",
    "            FROM metro_entity\n",
    "            INNER JOIN referral_to\n",
    "            ON metro_entity.npi = referral_to.to_npi\n",
    "            INNER JOIN referrals50\n",
    "            USING (referral_id)\n",
    "        ),\n",
    "        profile_from AS (\n",
    "            SELECT *\n",
    "            FROM profile\n",
    "            INNER JOIN taxonomy\n",
    "            ON profile.taxonomy_code = taxonomy.code\n",
    "        )\n",
    "        SELECT\n",
    "            rf.from_npi,\n",
    "            qf.referral_id,\n",
    "            pf.entity_type_code AS entity_from,\n",
    "            pf.\"provider_last_name_(legal_name)\" || ', ' || pf.provider_first_name AS name_from,\n",
    "            pf.\"provider_organization_name_(legal_business_name)\" AS organization_from,\n",
    "            pf.taxonomy_code AS taxonomy_code_from,\n",
    "            pf.classification AS classification_from,\n",
    "            pf.specialization AS specialization_from,\n",
    "            pf.provider_first_line_business_practice_location_address AS address_line1_from,\n",
    "            pf.provider_second_line_business_practice_location_address AS address_line2_from,\n",
    "            pf.provider_business_practice_location_address_city_name AS city_from,\n",
    "            pf.provider_business_practice_location_address_state_name AS state_from,\n",
    "            pf.provider_business_practice_location_address_postal_code AS zip_from,\n",
    "            to_npi,\n",
    "            qf.entity_type_code AS entity_to,\n",
    "            qf.\"provider_last_name_(legal_name)\" || ', ' || qf.provider_first_name AS name_to,\n",
    "            qf.\"provider_organization_name_(legal_business_name)\" AS organization_to,\n",
    "            qf.taxonomy_code AS taxonomy_code_to,\n",
    "            qf.classification AS classification_to,\n",
    "            qf.specialization AS specialization_to,\n",
    "            qf.provider_first_line_business_practice_location_address AS address_line1_to,\n",
    "            qf.provider_second_line_business_practice_location_address AS address_line2_to,\n",
    "            qf.provider_business_practice_location_address_city_name AS city_to,\n",
    "            qf.provider_business_practice_location_address_state_name AS state_to,\n",
    "            qf.provider_business_practice_location_address_postal_code AS zip_to,\n",
    "            patient_count,\n",
    "            transaction_count,\n",
    "            average_day_wait,\n",
    "            std_day_wait\n",
    "        FROM referral_from AS rf\n",
    "        INNER JOIN profile_from AS pf\n",
    "        ON rf.from_npi = pf.npi\n",
    "        INNER JOIN qualifying_refs AS qf\n",
    "        USING (referral_id);\n",
    "\n",
    "\"\"\"\n",
    "\n",
    "with sqlite3.connect('../data/hopteam.sqlite') as db:\n",
    "    referrals_big = pd.read_sql(query, db)"
   ]
  },
  {
   "cell_type": "code",
   "execution_count": 8,
   "id": "5a1e3625",
   "metadata": {},
   "outputs": [
    {
     "data": {
      "text/plain": [
       "38950"
      ]
     },
     "execution_count": 8,
     "metadata": {},
     "output_type": "execute_result"
    }
   ],
   "source": [
    "referrals_big['from_npi'].nunique()"
   ]
  },
  {
   "cell_type": "code",
   "execution_count": 9,
   "id": "cc9e8d17",
   "metadata": {},
   "outputs": [
    {
     "data": {
      "text/plain": [
       "9194"
      ]
     },
     "execution_count": 9,
     "metadata": {},
     "output_type": "execute_result"
    }
   ],
   "source": [
    "referrals_big['to_npi'].nunique()"
   ]
  },
  {
   "cell_type": "code",
   "execution_count": 10,
   "id": "355ce90a",
   "metadata": {},
   "outputs": [],
   "source": [
    "def build_address(df, to_from = 'from'):\n",
    "    to_from = to_from\n",
    "    address = ((df[f'address_line1_{to_from}'] + ', ' + df[f'address_line2_{to_from}']).mask(pd.isna, df[f'address_line1_{to_from}'])\n",
    "         + ', ' \n",
    "         + df[f'city_{to_from}'] \n",
    "         + ', ' \n",
    "         + df[f'state_{to_from}']\n",
    "         + ' '\n",
    "         + df[f'zip_{to_from}']\n",
    "    )\n",
    "    return address"
   ]
  },
  {
   "cell_type": "code",
   "execution_count": 12,
   "id": "42edb866",
   "metadata": {},
   "outputs": [],
   "source": [
    "referrals_big['address_from'] = build_address(referrals_big, 'from')\n",
    "referrals_big['address_to'] = build_address(referrals_big, 'to')"
   ]
  },
  {
   "cell_type": "code",
   "execution_count": 13,
   "id": "466e7b43",
   "metadata": {},
   "outputs": [
    {
     "data": {
      "text/plain": [
       "array(['TN', 'AL', 'MS', 'WV', 'OK', 'SC', 'OH', 'KY', 'CO', 'FL', 'MI',\n",
       "       'NC', 'KS', 'GA', 'MD', 'NY', 'WI', 'NJ', 'CA', 'MO', 'IL', 'IN',\n",
       "       'NH', 'MN', 'WA', 'VA', 'AZ', 'DC', 'PA', 'DE', 'RI', 'MA', 'LA',\n",
       "       'NE', 'NV', 'IA', 'ID', 'OR', 'CT', 'VI', 'AR', 'TX', 'UT', 'ME',\n",
       "       'NM', 'AA', 'AK', 'HI', 'MT', 'ND', 'VT', 'SD', 'GU', 'PR', 'AE',\n",
       "       'WY', 'ISTANBUL'], dtype=object)"
      ]
     },
     "execution_count": 13,
     "metadata": {},
     "output_type": "execute_result"
    }
   ],
   "source": [
    "referrals_big['state_from'].unique()"
   ]
  },
  {
   "cell_type": "code",
   "execution_count": 16,
   "id": "b3efdbdb",
   "metadata": {},
   "outputs": [],
   "source": [
    "referrals_big.to_csv('../data/neo4j/referrals_big.csv', index = False)"
   ]
  }
 ],
 "metadata": {
  "kernelspec": {
   "display_name": "Python 3",
   "language": "python",
   "name": "python3"
  },
  "language_info": {
   "codemirror_mode": {
    "name": "ipython",
    "version": 3
   },
   "file_extension": ".py",
   "mimetype": "text/x-python",
   "name": "python",
   "nbconvert_exporter": "python",
   "pygments_lexer": "ipython3",
   "version": "3.8.8"
  }
 },
 "nbformat": 4,
 "nbformat_minor": 5
}
