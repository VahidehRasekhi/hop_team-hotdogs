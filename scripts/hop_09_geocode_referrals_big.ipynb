{
 "cells": [
  {
   "cell_type": "markdown",
   "id": "f761c3d8",
   "metadata": {},
   "source": [
    "# Import"
   ]
  },
  {
   "cell_type": "code",
   "execution_count": 1,
   "id": "db258d7f",
   "metadata": {},
   "outputs": [],
   "source": [
    "import pandas as pd\n",
    "import numpy as np\n",
    "import sqlite3\n",
    "import requests\n",
    "import json\n",
    "from tqdm.notebook import tqdm"
   ]
  },
  {
   "cell_type": "markdown",
   "id": "3aa06722",
   "metadata": {},
   "source": [
    "# Read in data and API key"
   ]
  },
  {
   "cell_type": "code",
   "execution_count": 2,
   "id": "e0f58fbf",
   "metadata": {},
   "outputs": [],
   "source": [
    "k = open('../data/api_keys.json')\n",
    "keys = json.load(k)\n",
    "api_key = keys['google_maps']"
   ]
  },
  {
   "cell_type": "code",
   "execution_count": 3,
   "id": "6a386b97",
   "metadata": {},
   "outputs": [],
   "source": [
    "referrals_big = pd.read_csv('../data/neo4j/referrals_big.csv')"
   ]
  },
  {
   "cell_type": "code",
   "execution_count": 4,
   "id": "3fad57e7",
   "metadata": {},
   "outputs": [
    {
     "data": {
      "text/plain": [
       "23600"
      ]
     },
     "execution_count": 4,
     "metadata": {},
     "output_type": "execute_result"
    }
   ],
   "source": [
    "referrals_big['address_from'].nunique()"
   ]
  },
  {
   "cell_type": "code",
   "execution_count": 5,
   "id": "13ee2eb5",
   "metadata": {},
   "outputs": [
    {
     "data": {
      "text/plain": [
       "23600"
      ]
     },
     "execution_count": 5,
     "metadata": {},
     "output_type": "execute_result"
    }
   ],
   "source": [
    "referrals_big['address_to'].nunique()"
   ]
  },
  {
   "cell_type": "markdown",
   "id": "aec64f0d",
   "metadata": {},
   "source": [
    "# Geocode using Google Geocode API"
   ]
  },
  {
   "cell_type": "markdown",
   "id": "8934f756",
   "metadata": {},
   "source": [
    "## Geocode \"from\" addresses"
   ]
  },
  {
   "cell_type": "code",
   "execution_count": 6,
   "id": "1bd912be",
   "metadata": {},
   "outputs": [],
   "source": [
    "from_addresses = referrals_big['address_from'].unique()"
   ]
  },
  {
   "cell_type": "code",
   "execution_count": null,
   "id": "8ac4791c",
   "metadata": {},
   "outputs": [],
   "source": [
    "#geocode_dict_from = {}"
   ]
  },
  {
   "cell_type": "code",
   "execution_count": 40,
   "id": "fdd0d918",
   "metadata": {},
   "outputs": [
    {
     "data": {
      "application/vnd.jupyter.widget-view+json": {
       "model_id": "3fcf696617b742bea564fdd8a37f693a",
       "version_major": 2,
       "version_minor": 0
      },
      "text/plain": [
       "  0%|          | 0/704 [00:00<?, ?it/s]"
      ]
     },
     "metadata": {},
     "output_type": "display_data"
    }
   ],
   "source": [
    "for address in tqdm(from_addresses[22896:]):\n",
    "    endpoint = 'https://maps.googleapis.com/maps/api/geocode/json'\n",
    "    params = {'address': address,\n",
    "             'key': api_key}\n",
    "\n",
    "    response = requests.get(endpoint, params)\n",
    "    geocode_dict_from[address] = response.json()['results'][0]['geometry']['location']"
   ]
  },
  {
   "cell_type": "code",
   "execution_count": 39,
   "id": "d249209c",
   "metadata": {},
   "outputs": [
    {
     "data": {
      "text/plain": [
       "array(['61 MEMORIAL MEDICAL PKWY, SUITE 2812, PALM COAST, FL 32164',\n",
       "       '1454 LAKE SIDE AVE, DAVENPORT, FL 33837',\n",
       "       '601 E ROLLINS ST, DEPT OF PATHOLOGY, ORLANDO, FL 32803',\n",
       "       '1305 LAKELAND HILLS BLVD, LAKELAND, FL 33805'], dtype=object)"
      ]
     },
     "execution_count": 39,
     "metadata": {},
     "output_type": "execute_result"
    }
   ],
   "source": [
    "from_addresses[22894:22898]"
   ]
  },
  {
   "cell_type": "code",
   "execution_count": 45,
   "id": "7f599121",
   "metadata": {},
   "outputs": [
    {
     "data": {
      "text/plain": [
       "23600"
      ]
     },
     "execution_count": 45,
     "metadata": {},
     "output_type": "execute_result"
    }
   ],
   "source": [
    "len(geocode_dict_from.keys())"
   ]
  },
  {
   "cell_type": "code",
   "execution_count": 46,
   "id": "cb62f3f2",
   "metadata": {},
   "outputs": [
    {
     "data": {
      "text/html": [
       "<div>\n",
       "<style scoped>\n",
       "    .dataframe tbody tr th:only-of-type {\n",
       "        vertical-align: middle;\n",
       "    }\n",
       "\n",
       "    .dataframe tbody tr th {\n",
       "        vertical-align: top;\n",
       "    }\n",
       "\n",
       "    .dataframe thead th {\n",
       "        text-align: right;\n",
       "    }\n",
       "</style>\n",
       "<table border=\"1\" class=\"dataframe\">\n",
       "  <thead>\n",
       "    <tr style=\"text-align: right;\">\n",
       "      <th></th>\n",
       "      <th>address_from</th>\n",
       "      <th>lat</th>\n",
       "      <th>lng</th>\n",
       "    </tr>\n",
       "  </thead>\n",
       "  <tbody>\n",
       "    <tr>\n",
       "      <th>0</th>\n",
       "      <td>302 N CONGRESS BLVD, SMITHVILLE, TN 37166</td>\n",
       "      <td>35.969171</td>\n",
       "      <td>-85.807472</td>\n",
       "    </tr>\n",
       "    <tr>\n",
       "      <th>1</th>\n",
       "      <td>3024 BUSINESS PARK CIR, GOODLETTSVILLE, TN 37072</td>\n",
       "      <td>36.332108</td>\n",
       "      <td>-86.700830</td>\n",
       "    </tr>\n",
       "    <tr>\n",
       "      <th>2</th>\n",
       "      <td>1801 1ST AVE S, BIRMINGHAM, AL 35233</td>\n",
       "      <td>33.510529</td>\n",
       "      <td>-86.805950</td>\n",
       "    </tr>\n",
       "    <tr>\n",
       "      <th>3</th>\n",
       "      <td>1301 22ND AVE S, NASHVILLE, TN 37232</td>\n",
       "      <td>36.141268</td>\n",
       "      <td>-86.801869</td>\n",
       "    </tr>\n",
       "    <tr>\n",
       "      <th>4</th>\n",
       "      <td>5811 CROSSINGS BLVD, ANTIOCH, TN 37013</td>\n",
       "      <td>36.037068</td>\n",
       "      <td>-86.641422</td>\n",
       "    </tr>\n",
       "    <tr>\n",
       "      <th>...</th>\n",
       "      <td>...</td>\n",
       "      <td>...</td>\n",
       "      <td>...</td>\n",
       "    </tr>\n",
       "    <tr>\n",
       "      <th>23595</th>\n",
       "      <td>405 W 16TH ST, HOPE, AR 71801</td>\n",
       "      <td>33.653368</td>\n",
       "      <td>-93.591908</td>\n",
       "    </tr>\n",
       "    <tr>\n",
       "      <th>23596</th>\n",
       "      <td>16502 LAWSON RD STE A, LITTLE ROCK, AR 72210</td>\n",
       "      <td>34.704582</td>\n",
       "      <td>-92.455895</td>\n",
       "    </tr>\n",
       "    <tr>\n",
       "      <th>23597</th>\n",
       "      <td>1113 N CASTLE HEIGHTS AVE, SUITE D, LEBANON, T...</td>\n",
       "      <td>36.225734</td>\n",
       "      <td>-86.293254</td>\n",
       "    </tr>\n",
       "    <tr>\n",
       "      <th>23598</th>\n",
       "      <td>275 JACKSON MEADOWS DR STE 101, HERMITAGE, TN ...</td>\n",
       "      <td>36.219183</td>\n",
       "      <td>-86.601242</td>\n",
       "    </tr>\n",
       "    <tr>\n",
       "      <th>23599</th>\n",
       "      <td>37 PALMER ST, CALAIS, ME 04619</td>\n",
       "      <td>45.177216</td>\n",
       "      <td>-67.261003</td>\n",
       "    </tr>\n",
       "  </tbody>\n",
       "</table>\n",
       "<p>23600 rows × 3 columns</p>\n",
       "</div>"
      ],
      "text/plain": [
       "                                            address_from        lat        lng\n",
       "0              302 N CONGRESS BLVD, SMITHVILLE, TN 37166  35.969171 -85.807472\n",
       "1       3024 BUSINESS PARK CIR, GOODLETTSVILLE, TN 37072  36.332108 -86.700830\n",
       "2                   1801 1ST AVE S, BIRMINGHAM, AL 35233  33.510529 -86.805950\n",
       "3                   1301 22ND AVE S, NASHVILLE, TN 37232  36.141268 -86.801869\n",
       "4                 5811 CROSSINGS BLVD, ANTIOCH, TN 37013  36.037068 -86.641422\n",
       "...                                                  ...        ...        ...\n",
       "23595                      405 W 16TH ST, HOPE, AR 71801  33.653368 -93.591908\n",
       "23596       16502 LAWSON RD STE A, LITTLE ROCK, AR 72210  34.704582 -92.455895\n",
       "23597  1113 N CASTLE HEIGHTS AVE, SUITE D, LEBANON, T...  36.225734 -86.293254\n",
       "23598  275 JACKSON MEADOWS DR STE 101, HERMITAGE, TN ...  36.219183 -86.601242\n",
       "23599                     37 PALMER ST, CALAIS, ME 04619  45.177216 -67.261003\n",
       "\n",
       "[23600 rows x 3 columns]"
      ]
     },
     "execution_count": 46,
     "metadata": {},
     "output_type": "execute_result"
    }
   ],
   "source": [
    "from_address_geocodes = pd.DataFrame(geocode_dict_from).transpose().reset_index().rename(columns = {'index':'address_from'})\n",
    "from_address_geocodes"
   ]
  },
  {
   "cell_type": "markdown",
   "id": "3d8f0e14",
   "metadata": {},
   "source": [
    "## Geocode \"to\" addresses"
   ]
  },
  {
   "cell_type": "code",
   "execution_count": null,
   "id": "4c2d96aa",
   "metadata": {},
   "outputs": [],
   "source": [
    "to_addresses = referrals_big['address_to'].unique()"
   ]
  },
  {
   "cell_type": "code",
   "execution_count": null,
   "id": "26b79f65",
   "metadata": {},
   "outputs": [],
   "source": [
    "geocode_dict_to = {}\n",
    "\n",
    "for address in tqdm(to_addresses):\n",
    "    endpoint = 'https://maps.googleapis.com/maps/api/geocode/json'\n",
    "    params = {'address': address,\n",
    "             'key': api_key}\n",
    "\n",
    "    response = requests.get(endpoint, params)\n",
    "    geocode_dict_to[address] = response.json()['results'][0]['geometry']['location']"
   ]
  },
  {
   "cell_type": "code",
   "execution_count": null,
   "id": "dee0d905",
   "metadata": {},
   "outputs": [],
   "source": [
    "to_address_geocodes = pd.DataFrame(geocode_dict_to).transpose().reset_index().rename(columns = {'index':'address_to'})\n",
    "to_address_geocodes"
   ]
  },
  {
   "cell_type": "markdown",
   "id": "bbfdf890",
   "metadata": {},
   "source": [
    "# Write to CSV\n",
    "So we don't accidentally use up this Google API credit"
   ]
  },
  {
   "cell_type": "code",
   "execution_count": 47,
   "id": "af21c8e3",
   "metadata": {},
   "outputs": [],
   "source": [
    "to_address_geocodes.to_csv('../data/geocodes/to_address_geocodes_big.csv', index = False)\n",
    "from_address_geocodes.to_csv('../data/geocodes/from_address_geocodes_big.csv', index = False)"
   ]
  }
 ],
 "metadata": {
  "kernelspec": {
   "display_name": "Python 3",
   "language": "python",
   "name": "python3"
  },
  "language_info": {
   "codemirror_mode": {
    "name": "ipython",
    "version": 3
   },
   "file_extension": ".py",
   "mimetype": "text/x-python",
   "name": "python",
   "nbconvert_exporter": "python",
   "pygments_lexer": "ipython3",
   "version": "3.8.8"
  }
 },
 "nbformat": 4,
 "nbformat_minor": 5
}
