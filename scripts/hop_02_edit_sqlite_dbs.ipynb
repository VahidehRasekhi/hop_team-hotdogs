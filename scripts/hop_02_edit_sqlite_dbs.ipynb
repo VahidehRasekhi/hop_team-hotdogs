{
 "cells": [
  {
   "cell_type": "markdown",
   "id": "59a37315",
   "metadata": {},
   "source": [
    "# Import"
   ]
  },
  {
   "cell_type": "code",
   "execution_count": 1,
   "id": "28d804ac",
   "metadata": {},
   "outputs": [],
   "source": [
    "import pandas as pd\n",
    "import numpy as np\n",
    "import sqlite3"
   ]
  },
  {
   "cell_type": "markdown",
   "id": "64254374",
   "metadata": {},
   "source": [
    "# Connect to and Change the hopteam Database"
   ]
  },
  {
   "cell_type": "code",
   "execution_count": 3,
   "id": "a3ffcb31",
   "metadata": {},
   "outputs": [],
   "source": [
    "db = sqlite3.connect('../data/hopteam.sqlite')    "
   ]
  },
  {
   "cell_type": "markdown",
   "id": "5739b3d4",
   "metadata": {},
   "source": [
    "## change column names of taxonomy table"
   ]
  },
  {
   "cell_type": "code",
   "execution_count": 11,
   "id": "fda7f46f",
   "metadata": {},
   "outputs": [],
   "source": [
    "queries = [\"\"\"\n",
    "        ALTER TABLE taxonomy\n",
    "        RENAME COLUMN Code TO code;\n",
    "        \"\"\",\n",
    "        \"\"\"\n",
    "        ALTER TABLE taxonomy\n",
    "        RENAME COLUMN Grouping TO grouping;\n",
    "        \"\"\",\n",
    "        \"\"\"\n",
    "        ALTER TABLE taxonomy\n",
    "        RENAME COLUMN Classification TO classification;\n",
    "        \"\"\",\n",
    "        \"\"\"\n",
    "        ALTER TABLE taxonomy\n",
    "        RENAME COLUMN Specialization TO specialization;\n",
    "        \"\"\",\n",
    "        \"\"\"\n",
    "        ALTER TABLE taxonomy\n",
    "        RENAME COLUMN Definition TO definition;\n",
    "        \"\"\",\n",
    "        \"\"\"\n",
    "        ALTER TABLE taxonomy\n",
    "        RENAME COLUMN Notes TO notes;\n",
    "        \"\"\",\n",
    "        \"\"\"\n",
    "        ALTER TABLE taxonomy\n",
    "        RENAME COLUMN \"Display Name\" TO display_name;\n",
    "        \"\"\",\n",
    "        \"\"\"\n",
    "        ALTER TABLE taxonomy\n",
    "        RENAME COLUMN Section TO section;\n",
    "        \"\"\"\n",
    "        ]\n",
    "for query in queries:\n",
    "    db.execute(query)"
   ]
  },
  {
   "cell_type": "code",
   "execution_count": 13,
   "id": "230644fb",
   "metadata": {},
   "outputs": [],
   "source": [
    "db.close()"
   ]
  },
  {
   "cell_type": "markdown",
   "id": "4edf6a2d",
   "metadata": {},
   "source": [
    "## Set hopteam indices"
   ]
  },
  {
   "cell_type": "code",
   "execution_count": null,
   "id": "3ee25dbd",
   "metadata": {},
   "outputs": [],
   "source": [
    "with sqlite3.connect('../data/hopteam.sqlite') as db: \n",
    "    db.execute('CREATE INDEX npi ON profile(npi)')\n",
    "    db.execute('CREATE INDEX to_npi ON referral_to(to_npi)')\n",
    "    db.execute('CREATE INDEX referral_id ON referrals(referral_id)')\n",
    "    db.execute('CREATE INDEX from_npi ON referral_from(from_npi)')\n",
    "    db.execute('CREATE INDEX code ON taxonomy(code)')\n",
    "    db.execute('CREATE INDEX zip ON zip_cbsa(zip)')\n",
    "    db.execute('CREATE INDEX provider_business_practice_location_address_postal_code ON profile(provider_business_practice_location_address_postal_code)')\n",
    "    db.execute('CREATE INDEX taxonomy_code ON profile(taxonomy_code)')\n",
    "    db.execute('CREATE INDEX from_referral_id ON referral_from(referral_id)')\n",
    "    db.execute('CREATE INDEX to_referral_id ON referral_to(referral_id)')"
   ]
  }
 ],
 "metadata": {
  "kernelspec": {
   "display_name": "Python 3",
   "language": "python",
   "name": "python3"
  },
  "language_info": {
   "codemirror_mode": {
    "name": "ipython",
    "version": 3
   },
   "file_extension": ".py",
   "mimetype": "text/x-python",
   "name": "python",
   "nbconvert_exporter": "python",
   "pygments_lexer": "ipython3",
   "version": "3.8.8"
  }
 },
 "nbformat": 4,
 "nbformat_minor": 5
}
