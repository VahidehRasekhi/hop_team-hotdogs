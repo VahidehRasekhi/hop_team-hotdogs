{
 "cells": [
  {
   "cell_type": "markdown",
   "id": "6f0a4bae",
   "metadata": {},
   "source": [
    "# Import"
   ]
  },
  {
   "cell_type": "code",
   "execution_count": 1,
   "id": "f965fffc",
   "metadata": {},
   "outputs": [],
   "source": [
    "import pandas as pd\n",
    "import numpy as np\n",
    "import sqlite3"
   ]
  },
  {
   "cell_type": "markdown",
   "id": "fa6efe9f",
   "metadata": {},
   "source": [
    "# Neo4J Queries\n",
    "\n",
    "    - provider_nodes\n",
    "        - organization_nodes\n",
    "        - taxonomy_nodes\n",
    "    - hospital_nodes\n",
    "        - organization_nodes\n",
    "        - taxonomy_nodes\n",
    "    - referral_relationships"
   ]
  },
  {
   "cell_type": "code",
   "execution_count": 2,
   "id": "4f1c3c18",
   "metadata": {},
   "outputs": [],
   "source": [
    "db = sqlite3.connect('../data/hopteam.sqlite')"
   ]
  },
  {
   "cell_type": "markdown",
   "id": "ce06eb41",
   "metadata": {},
   "source": [
    "## provider_nodes\n",
    "    - entity type 1\n",
    "    - any cbsa\n",
    "    - referred to an entity type 2 in cbsa 34980\n",
    "        - with at least 50 transactions and\n",
    "        - with less than 50 avg wait time"
   ]
  },
  {
   "cell_type": "code",
   "execution_count": null,
   "id": "8f1eb7e2",
   "metadata": {},
   "outputs": [],
   "source": [
    "%%time\n",
    "\n",
    "query = \"\"\"\n",
    "        \n",
    "        WITH nash_metro AS (\n",
    "            SELECT *\n",
    "            FROM zip_cbsa\n",
    "            WHERE cbsa = '34980'\n",
    "        )\n",
    "        SELECT *\n",
    "        FROM nash_metro\n",
    "        INNER JOIN profile\n",
    "        ON nash_metro.zip = profile.provider_business_practice_location_address_postal_code \n",
    "\n",
    "\"\"\"\n",
    "\n",
    "pd.read_sql(query, db)"
   ]
  },
  {
   "cell_type": "code",
   "execution_count": null,
   "id": "a4f14919",
   "metadata": {},
   "outputs": [],
   "source": [
    "query = \"\"\"\n",
    "\n",
    "    SELECT *\n",
    "    FROM referral_from AS rf\n",
    "    INNER JOIN profile AS p\n",
    "    ON rf.from_npi = p.npi\n",
    "    WHERE rf.from_npi IN (\n",
    "        SELECT from_npi\n",
    "        FROM referral_from\n",
    "        INNER JOIN referrals\n",
    "            USING (referral_id)\n",
    "        INNER JOIN referral_to\n",
    "            USING (referral_id)\n",
    "        INNER JOIN profile\n",
    "            ON referral_to.to_npi = profile.npi\n",
    "        INNER JOIN zip_cbsa\n",
    "            ON profile.provider_business_practice_location_address_postal_code = zip_cbsa.zip\n",
    "        WHERE transaction_count >= 50\n",
    "        AND average_day_wait < 50\n",
    "        AND cbsa = '34980'\n",
    "    )\n",
    "\n",
    "\"\"\"\n",
    "\n",
    "pd.read_sql(query, db)"
   ]
  }
 ],
 "metadata": {
  "kernelspec": {
   "display_name": "Python 3",
   "language": "python",
   "name": "python3"
  },
  "language_info": {
   "codemirror_mode": {
    "name": "ipython",
    "version": 3
   },
   "file_extension": ".py",
   "mimetype": "text/x-python",
   "name": "python",
   "nbconvert_exporter": "python",
   "pygments_lexer": "ipython3",
   "version": "3.8.8"
  }
 },
 "nbformat": 4,
 "nbformat_minor": 5
}
